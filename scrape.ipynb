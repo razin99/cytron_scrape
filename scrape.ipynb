{
 "cells": [
  {
   "cell_type": "code",
   "execution_count": 20,
   "metadata": {},
   "outputs": [],
   "source": [
    "import pandas as pd"
   ]
  },
  {
   "cell_type": "code",
   "execution_count": 21,
   "metadata": {},
   "outputs": [],
   "source": [
    "df = pd.read_csv(r'~/python_scrape/n_cytron.csv')"
   ]
  },
  {
   "cell_type": "code",
   "execution_count": 22,
   "metadata": {},
   "outputs": [
    {
     "output_type": "display_data",
     "data": {
      "text/plain": "   Index                                               Item  Price\n0     20           Raspberry PI 4 Heatsink Set (3pcs) Black   1.25\n1     21                            Resistor 0.25W 5% (10K)   0.01\n2     22                  Breadboard 16.5x5.5cm (830 Holes)   1.05\n3     23  2Amp 7V-30V L298N Motor Driver / Stepper Drive...   1.88\n4     24          Microbit Quick Start Kit (with micro:bit)  27.50",
      "text/html": "<div>\n<style scoped>\n    .dataframe tbody tr th:only-of-type {\n        vertical-align: middle;\n    }\n\n    .dataframe tbody tr th {\n        vertical-align: top;\n    }\n\n    .dataframe thead th {\n        text-align: right;\n    }\n</style>\n<table border=\"1\" class=\"dataframe\">\n  <thead>\n    <tr style=\"text-align: right;\">\n      <th></th>\n      <th>Index</th>\n      <th>Item</th>\n      <th>Price</th>\n    </tr>\n  </thead>\n  <tbody>\n    <tr>\n      <th>0</th>\n      <td>20</td>\n      <td>Raspberry PI 4 Heatsink Set (3pcs) Black</td>\n      <td>1.25</td>\n    </tr>\n    <tr>\n      <th>1</th>\n      <td>21</td>\n      <td>Resistor 0.25W 5% (10K)</td>\n      <td>0.01</td>\n    </tr>\n    <tr>\n      <th>2</th>\n      <td>22</td>\n      <td>Breadboard 16.5x5.5cm (830 Holes)</td>\n      <td>1.05</td>\n    </tr>\n    <tr>\n      <th>3</th>\n      <td>23</td>\n      <td>2Amp 7V-30V L298N Motor Driver / Stepper Drive...</td>\n      <td>1.88</td>\n    </tr>\n    <tr>\n      <th>4</th>\n      <td>24</td>\n      <td>Microbit Quick Start Kit (with micro:bit)</td>\n      <td>27.50</td>\n    </tr>\n  </tbody>\n</table>\n</div>"
     },
     "metadata": {}
    }
   ],
   "source": [
    "display(df.head())"
   ]
  },
  {
   "cell_type": "code",
   "execution_count": 23,
   "metadata": {},
   "outputs": [],
   "source": [
    "del df['Index']"
   ]
  },
  {
   "cell_type": "code",
   "execution_count": 24,
   "metadata": {},
   "outputs": [
    {
     "output_type": "display_data",
     "data": {
      "text/plain": "                                                Item  Price\n0           Raspberry PI 4 Heatsink Set (3pcs) Black   1.25\n1                            Resistor 0.25W 5% (10K)   0.01\n2                  Breadboard 16.5x5.5cm (830 Holes)   1.05\n3  2Amp 7V-30V L298N Motor Driver / Stepper Drive...   1.88\n4          Microbit Quick Start Kit (with micro:bit)  27.50",
      "text/html": "<div>\n<style scoped>\n    .dataframe tbody tr th:only-of-type {\n        vertical-align: middle;\n    }\n\n    .dataframe tbody tr th {\n        vertical-align: top;\n    }\n\n    .dataframe thead th {\n        text-align: right;\n    }\n</style>\n<table border=\"1\" class=\"dataframe\">\n  <thead>\n    <tr style=\"text-align: right;\">\n      <th></th>\n      <th>Item</th>\n      <th>Price</th>\n    </tr>\n  </thead>\n  <tbody>\n    <tr>\n      <th>0</th>\n      <td>Raspberry PI 4 Heatsink Set (3pcs) Black</td>\n      <td>1.25</td>\n    </tr>\n    <tr>\n      <th>1</th>\n      <td>Resistor 0.25W 5% (10K)</td>\n      <td>0.01</td>\n    </tr>\n    <tr>\n      <th>2</th>\n      <td>Breadboard 16.5x5.5cm (830 Holes)</td>\n      <td>1.05</td>\n    </tr>\n    <tr>\n      <th>3</th>\n      <td>2Amp 7V-30V L298N Motor Driver / Stepper Drive...</td>\n      <td>1.88</td>\n    </tr>\n    <tr>\n      <th>4</th>\n      <td>Microbit Quick Start Kit (with micro:bit)</td>\n      <td>27.50</td>\n    </tr>\n  </tbody>\n</table>\n</div>"
     },
     "metadata": {}
    }
   ],
   "source": [
    "display(df.head())"
   ]
  },
  {
   "cell_type": "code",
   "execution_count": 30,
   "metadata": {},
   "outputs": [
    {
     "output_type": "display_data",
     "data": {
      "text/plain": "                                                   Item   Price\n1828                    Boson Starter Kit for micro:bit   99.75\n1198               Snapmaker Original 3 in 1 3D Printer  974.75\n1522  AlphaBot2 robot kit for Raspberry Pi Zero/Zero...   97.50\n1701            Grove Creator Kit - β (30 Sensors in 1)   97.50\n2032            TF02 PRO - IP65 LiDAR Rangefinder (40m)   96.25\n...                                                 ...     ...\n1635                           Resistor 0.25W 5% (200R)    0.01\n1831                            Resistor 0.25W 5% (2M2)    0.01\n1515                            Resistor 0.25W 5% (68R)    0.01\n870                             Resistor 0.25W 5% (1K5)    0.01\n1731                           Resistor 0.25W 5% (360K)    0.01\n\n[2036 rows x 2 columns]",
      "text/html": "<div>\n<style scoped>\n    .dataframe tbody tr th:only-of-type {\n        vertical-align: middle;\n    }\n\n    .dataframe tbody tr th {\n        vertical-align: top;\n    }\n\n    .dataframe thead th {\n        text-align: right;\n    }\n</style>\n<table border=\"1\" class=\"dataframe\">\n  <thead>\n    <tr style=\"text-align: right;\">\n      <th></th>\n      <th>Item</th>\n      <th>Price</th>\n    </tr>\n  </thead>\n  <tbody>\n    <tr>\n      <th>1828</th>\n      <td>Boson Starter Kit for micro:bit</td>\n      <td>99.75</td>\n    </tr>\n    <tr>\n      <th>1198</th>\n      <td>Snapmaker Original 3 in 1 3D Printer</td>\n      <td>974.75</td>\n    </tr>\n    <tr>\n      <th>1522</th>\n      <td>AlphaBot2 robot kit for Raspberry Pi Zero/Zero...</td>\n      <td>97.50</td>\n    </tr>\n    <tr>\n      <th>1701</th>\n      <td>Grove Creator Kit - β (30 Sensors in 1)</td>\n      <td>97.50</td>\n    </tr>\n    <tr>\n      <th>2032</th>\n      <td>TF02 PRO - IP65 LiDAR Rangefinder (40m)</td>\n      <td>96.25</td>\n    </tr>\n    <tr>\n      <th>...</th>\n      <td>...</td>\n      <td>...</td>\n    </tr>\n    <tr>\n      <th>1635</th>\n      <td>Resistor 0.25W 5% (200R)</td>\n      <td>0.01</td>\n    </tr>\n    <tr>\n      <th>1831</th>\n      <td>Resistor 0.25W 5% (2M2)</td>\n      <td>0.01</td>\n    </tr>\n    <tr>\n      <th>1515</th>\n      <td>Resistor 0.25W 5% (68R)</td>\n      <td>0.01</td>\n    </tr>\n    <tr>\n      <th>870</th>\n      <td>Resistor 0.25W 5% (1K5)</td>\n      <td>0.01</td>\n    </tr>\n    <tr>\n      <th>1731</th>\n      <td>Resistor 0.25W 5% (360K)</td>\n      <td>0.01</td>\n    </tr>\n  </tbody>\n</table>\n<p>2036 rows × 2 columns</p>\n</div>"
     },
     "metadata": {}
    }
   ],
   "source": [
    "display(df.sort_values(by=['Price'], ascending=False))"
   ]
  },
  {
   "cell_type": "code",
   "execution_count": null,
   "metadata": {},
   "outputs": [],
   "source": []
  }
 ],
 "metadata": {
  "language_info": {
   "codemirror_mode": {
    "name": "ipython",
    "version": 3
   },
   "file_extension": ".py",
   "mimetype": "text/x-python",
   "name": "python",
   "nbconvert_exporter": "python",
   "pygments_lexer": "ipython3",
   "version": "3.8.2-final"
  },
  "orig_nbformat": 2,
  "kernelspec": {
   "name": "python38264bitcbeb7b918de049fd879a664af233c557",
   "display_name": "Python 3.8.2 64-bit"
  }
 },
 "nbformat": 4,
 "nbformat_minor": 2
}